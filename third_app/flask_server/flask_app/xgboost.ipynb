{
 "cells": [
  {
   "cell_type": "code",
   "execution_count": 1,
   "metadata": {},
   "outputs": [
    {
     "ename": "ModuleNotFoundError",
     "evalue": "No module named 'pandas'",
     "output_type": "error",
     "traceback": [
      "\u001b[1;31m---------------------------------------------------------------------------\u001b[0m",
      "\u001b[1;31mModuleNotFoundError\u001b[0m                       Traceback (most recent call last)",
      "Cell \u001b[1;32mIn[1], line 1\u001b[0m\n\u001b[1;32m----> 1\u001b[0m \u001b[38;5;28;01mimport\u001b[39;00m \u001b[38;5;21;01mpandas\u001b[39;00m \u001b[38;5;28;01mas\u001b[39;00m \u001b[38;5;21;01mpd\u001b[39;00m\n\u001b[0;32m      3\u001b[0m fileName \u001b[38;5;241m=\u001b[39m \u001b[38;5;124m'\u001b[39m\u001b[38;5;124mspareParts.xlsx\u001b[39m\u001b[38;5;124m'\u001b[39m\n\u001b[0;32m      5\u001b[0m \u001b[38;5;66;03m# Read the Excel file into a DataFrame\u001b[39;00m\n",
      "\u001b[1;31mModuleNotFoundError\u001b[0m: No module named 'pandas'"
     ]
    }
   ],
   "source": [
    "import pandas as pd\n",
    "\n",
    "fileName = 'spareParts.xlsx'\n",
    "\n",
    "# Read the Excel file into a DataFrame\n",
    "df = pd.read_excel(fileName)\n",
    "\n",
    "# Get column names\n",
    "# column_names = df.columns\n",
    "\n",
    "# Define columns to keep\n",
    "columns_to_keep = ['TrainNumber', 'System', 'Date', 'Quantity']  \n",
    "\n",
    "# Keep specific columns\n",
    "df = df.loc[:, columns_to_keep]\n",
    "\n",
    "# Assuming 'Date' column is already in datetime format\n",
    "df['Date'] = pd.to_datetime(df['Date'])\n",
    "\n",
    "# Set the index to the 'Date' column\n",
    "df.set_index('Date', inplace=True)\n",
    "\n",
    "# Group by 'System' and resample by '1M' (monthly frequency), summing the 'Quantity' column\n",
    "feature_monthly_quantity_df = df.groupby('System').resample('1M')['Quantity'].sum().reset_index()\n",
    "\n",
    "# Reset index to make the DataFrame more manageable\n",
    "feature_monthly_quantity_df.reset_index(drop=True, inplace=True)\n",
    "\n",
    "# feature_monthly_quantity_df.to_csv('sparePartsDataframe.csv', index=False)\n",
    "\n",
    "print(feature_monthly_quantity_df)\n"
   ]
  },
  {
   "cell_type": "code",
   "execution_count": 24,
   "metadata": {},
   "outputs": [],
   "source": [
    "from darts import TimeSeries\n",
    "from sklearn.preprocessing import LabelEncoder\n",
    "from darts.models import XGBModel,CatBoostModel\n",
    "\n",
    "label_encoder=LabelEncoder()\n",
    "\n",
    "feature_monthly_quantity_df['SystemEncoded'] = label_encoder.fit_transform(feature_monthly_quantity_df['System'])"
   ]
  },
  {
   "cell_type": "code",
   "execution_count": 25,
   "metadata": {},
   "outputs": [],
   "source": [
    "def train_test_split_last_n_rows(df, percentage):\n",
    "    # Define a function to split the last n rows for each product\n",
    "    def split_last_n_rows_train(group):\n",
    "        n_rows = int(len(group) * (1 - percentage))\n",
    "        return group.iloc[:n_rows]\n",
    "\n",
    "    def split_last_n_rows_test(group):\n",
    "        n_rows = int(len(group) * percentage)\n",
    "        return group.iloc[-n_rows:]\n",
    "\n",
    "    # Apply the split function to each product group\n",
    "    train_df = df.groupby('System', group_keys=False).apply(\n",
    "        split_last_n_rows_train)\n",
    "\n",
    "    test_df = df.groupby('System', group_keys=False).apply(\n",
    "        split_last_n_rows_test)\n",
    "\n",
    "    train_df = train_df.groupby('System', group_keys=False).apply(\n",
    "        lambda group: group.reset_index(drop=True))\n",
    "    return train_df, test_df"
   ]
  },
  {
   "cell_type": "code",
   "execution_count": 26,
   "metadata": {},
   "outputs": [
    {
     "name": "stderr",
     "output_type": "stream",
     "text": [
      "C:\\Users\\Waleed Bin Osama\\AppData\\Local\\Temp\\ipykernel_23492\\537614829.py:12: DeprecationWarning: DataFrameGroupBy.apply operated on the grouping columns. This behavior is deprecated, and in a future version of pandas the grouping columns will be excluded from the operation. Either pass `include_groups=False` to exclude the groupings or explicitly select the grouping columns after groupby to silence this warning.\n",
      "  train_df = df.groupby('System', group_keys=False).apply(\n",
      "C:\\Users\\Waleed Bin Osama\\AppData\\Local\\Temp\\ipykernel_23492\\537614829.py:15: DeprecationWarning: DataFrameGroupBy.apply operated on the grouping columns. This behavior is deprecated, and in a future version of pandas the grouping columns will be excluded from the operation. Either pass `include_groups=False` to exclude the groupings or explicitly select the grouping columns after groupby to silence this warning.\n",
      "  test_df = df.groupby('System', group_keys=False).apply(\n",
      "C:\\Users\\Waleed Bin Osama\\AppData\\Local\\Temp\\ipykernel_23492\\537614829.py:18: DeprecationWarning: DataFrameGroupBy.apply operated on the grouping columns. This behavior is deprecated, and in a future version of pandas the grouping columns will be excluded from the operation. Either pass `include_groups=False` to exclude the groupings or explicitly select the grouping columns after groupby to silence this warning.\n",
      "  train_df = train_df.groupby('System', group_keys=False).apply(\n"
     ]
    }
   ],
   "source": [
    "train, test = train_test_split_last_n_rows(feature_monthly_quantity_df, 0.2)"
   ]
  },
  {
   "cell_type": "code",
   "execution_count": 27,
   "metadata": {},
   "outputs": [
    {
     "name": "stderr",
     "output_type": "stream",
     "text": [
      "c:\\Users\\Waleed Bin Osama\\OneDrive - FAST National University\\Waleed Bin Osama\\Work\\Flutter\\third_app\\third_app\\.fypvenv\\Lib\\site-packages\\darts\\timeseries.py:4674: FutureWarning: 'M' is deprecated and will be removed in a future version, please use 'ME' instead.\n",
      "  resampled_time_index = resampled_time_index.asfreq(freq)\n",
      "c:\\Users\\Waleed Bin Osama\\OneDrive - FAST National University\\Waleed Bin Osama\\Work\\Flutter\\third_app\\third_app\\.fypvenv\\Lib\\site-packages\\darts\\timeseries.py:4674: FutureWarning: 'M' is deprecated and will be removed in a future version, please use 'ME' instead.\n",
      "  resampled_time_index = resampled_time_index.asfreq(freq)\n",
      "c:\\Users\\Waleed Bin Osama\\OneDrive - FAST National University\\Waleed Bin Osama\\Work\\Flutter\\third_app\\third_app\\.fypvenv\\Lib\\site-packages\\darts\\timeseries.py:4674: FutureWarning: 'M' is deprecated and will be removed in a future version, please use 'ME' instead.\n",
      "  resampled_time_index = resampled_time_index.asfreq(freq)\n",
      "c:\\Users\\Waleed Bin Osama\\OneDrive - FAST National University\\Waleed Bin Osama\\Work\\Flutter\\third_app\\third_app\\.fypvenv\\Lib\\site-packages\\darts\\timeseries.py:4674: FutureWarning: 'M' is deprecated and will be removed in a future version, please use 'ME' instead.\n",
      "  resampled_time_index = resampled_time_index.asfreq(freq)\n",
      "c:\\Users\\Waleed Bin Osama\\OneDrive - FAST National University\\Waleed Bin Osama\\Work\\Flutter\\third_app\\third_app\\.fypvenv\\Lib\\site-packages\\darts\\timeseries.py:4674: FutureWarning: 'M' is deprecated and will be removed in a future version, please use 'ME' instead.\n",
      "  resampled_time_index = resampled_time_index.asfreq(freq)\n",
      "c:\\Users\\Waleed Bin Osama\\OneDrive - FAST National University\\Waleed Bin Osama\\Work\\Flutter\\third_app\\third_app\\.fypvenv\\Lib\\site-packages\\darts\\timeseries.py:4674: FutureWarning: 'M' is deprecated and will be removed in a future version, please use 'ME' instead.\n",
      "  resampled_time_index = resampled_time_index.asfreq(freq)\n",
      "c:\\Users\\Waleed Bin Osama\\OneDrive - FAST National University\\Waleed Bin Osama\\Work\\Flutter\\third_app\\third_app\\.fypvenv\\Lib\\site-packages\\darts\\timeseries.py:4674: FutureWarning: 'M' is deprecated and will be removed in a future version, please use 'ME' instead.\n",
      "  resampled_time_index = resampled_time_index.asfreq(freq)\n",
      "c:\\Users\\Waleed Bin Osama\\OneDrive - FAST National University\\Waleed Bin Osama\\Work\\Flutter\\third_app\\third_app\\.fypvenv\\Lib\\site-packages\\darts\\timeseries.py:4674: FutureWarning: 'M' is deprecated and will be removed in a future version, please use 'ME' instead.\n",
      "  resampled_time_index = resampled_time_index.asfreq(freq)\n",
      "c:\\Users\\Waleed Bin Osama\\OneDrive - FAST National University\\Waleed Bin Osama\\Work\\Flutter\\third_app\\third_app\\.fypvenv\\Lib\\site-packages\\darts\\timeseries.py:4674: FutureWarning: 'M' is deprecated and will be removed in a future version, please use 'ME' instead.\n",
      "  resampled_time_index = resampled_time_index.asfreq(freq)\n",
      "c:\\Users\\Waleed Bin Osama\\OneDrive - FAST National University\\Waleed Bin Osama\\Work\\Flutter\\third_app\\third_app\\.fypvenv\\Lib\\site-packages\\darts\\timeseries.py:4674: FutureWarning: 'M' is deprecated and will be removed in a future version, please use 'ME' instead.\n",
      "  resampled_time_index = resampled_time_index.asfreq(freq)\n",
      "c:\\Users\\Waleed Bin Osama\\OneDrive - FAST National University\\Waleed Bin Osama\\Work\\Flutter\\third_app\\third_app\\.fypvenv\\Lib\\site-packages\\darts\\timeseries.py:4674: FutureWarning: 'M' is deprecated and will be removed in a future version, please use 'ME' instead.\n",
      "  resampled_time_index = resampled_time_index.asfreq(freq)\n",
      "c:\\Users\\Waleed Bin Osama\\OneDrive - FAST National University\\Waleed Bin Osama\\Work\\Flutter\\third_app\\third_app\\.fypvenv\\Lib\\site-packages\\darts\\timeseries.py:4674: FutureWarning: 'M' is deprecated and will be removed in a future version, please use 'ME' instead.\n",
      "  resampled_time_index = resampled_time_index.asfreq(freq)\n",
      "c:\\Users\\Waleed Bin Osama\\OneDrive - FAST National University\\Waleed Bin Osama\\Work\\Flutter\\third_app\\third_app\\.fypvenv\\Lib\\site-packages\\darts\\timeseries.py:4674: FutureWarning: 'M' is deprecated and will be removed in a future version, please use 'ME' instead.\n",
      "  resampled_time_index = resampled_time_index.asfreq(freq)\n",
      "c:\\Users\\Waleed Bin Osama\\OneDrive - FAST National University\\Waleed Bin Osama\\Work\\Flutter\\third_app\\third_app\\.fypvenv\\Lib\\site-packages\\darts\\timeseries.py:4674: FutureWarning: 'M' is deprecated and will be removed in a future version, please use 'ME' instead.\n",
      "  resampled_time_index = resampled_time_index.asfreq(freq)\n",
      "c:\\Users\\Waleed Bin Osama\\OneDrive - FAST National University\\Waleed Bin Osama\\Work\\Flutter\\third_app\\third_app\\.fypvenv\\Lib\\site-packages\\darts\\timeseries.py:4674: FutureWarning: 'M' is deprecated and will be removed in a future version, please use 'ME' instead.\n",
      "  resampled_time_index = resampled_time_index.asfreq(freq)\n",
      "c:\\Users\\Waleed Bin Osama\\OneDrive - FAST National University\\Waleed Bin Osama\\Work\\Flutter\\third_app\\third_app\\.fypvenv\\Lib\\site-packages\\darts\\timeseries.py:4674: FutureWarning: 'M' is deprecated and will be removed in a future version, please use 'ME' instead.\n",
      "  resampled_time_index = resampled_time_index.asfreq(freq)\n",
      "c:\\Users\\Waleed Bin Osama\\OneDrive - FAST National University\\Waleed Bin Osama\\Work\\Flutter\\third_app\\third_app\\.fypvenv\\Lib\\site-packages\\darts\\timeseries.py:4674: FutureWarning: 'M' is deprecated and will be removed in a future version, please use 'ME' instead.\n",
      "  resampled_time_index = resampled_time_index.asfreq(freq)\n",
      "c:\\Users\\Waleed Bin Osama\\OneDrive - FAST National University\\Waleed Bin Osama\\Work\\Flutter\\third_app\\third_app\\.fypvenv\\Lib\\site-packages\\darts\\timeseries.py:4674: FutureWarning: 'M' is deprecated and will be removed in a future version, please use 'ME' instead.\n",
      "  resampled_time_index = resampled_time_index.asfreq(freq)\n",
      "c:\\Users\\Waleed Bin Osama\\OneDrive - FAST National University\\Waleed Bin Osama\\Work\\Flutter\\third_app\\third_app\\.fypvenv\\Lib\\site-packages\\darts\\timeseries.py:4674: FutureWarning: 'M' is deprecated and will be removed in a future version, please use 'ME' instead.\n",
      "  resampled_time_index = resampled_time_index.asfreq(freq)\n"
     ]
    }
   ],
   "source": [
    "future_covariates_df=pd.concat([train,test],ignore_index=True)\n",
    "\n",
    "# future_features=['base_price','is_holiday','day_of_week','week_of_month','month_of_year','days_till_black_friday','days_till_christmas','days_till_summer','days_till_winter','is_promotion','days_till_thanksgiving','days_till_independence_day','base_price_rolling_3','base_price_rolling_7','base_price_rolling_30']\n",
    "# past_features=['base_price','is_holiday','day_of_week','week_of_month','month_of_year','days_till_black_friday','days_till_christmas','days_till_summer','days_till_winter','is_promotion', 'days_till_thanksgiving','days_till_independence_day','base_price_rolling_3','base_price_rolling_7','base_price_rolling_30']\n",
    "\n",
    "\n",
    "\n",
    "train_time_series = TimeSeries.from_group_dataframe(train, group_cols = \"SystemEncoded\", time_col = 'Date', fill_missing_dates = True, freq='M', value_cols=['Quantity'])\n",
    "# future_covariates_series2=TimeSeries.from_group_dataframe(train,group_cols=\"product_item_sku_id_encoded\",time_col='creation_date',fill_missing_dates=False,freq=fr,value_cols=future_features)\n",
    "# past_covariates_series2=TimeSeries.from_group_dataframe(train,group_cols=\"product_item_sku_id_encoded\",time_col='creation_date',fill_missing_dates=False,freq=fr,value_cols=past_features)\n",
    "#Model Pipeline\n",
    "\n",
    "\n",
    "model_params = {\n",
    "    'lags': [-1, -3],\n",
    "    # 'lags_future_covariates': [0],\n",
    "    # 'lags_past_covariates' : [-1,-3,-5,-10],\n",
    "    'use_static_covariates': True,\n",
    "    'output_chunk_length': 1,    \n",
    "}\n",
    "\n",
    "\n",
    "model=XGBModel(**model_params)"
   ]
  },
  {
   "cell_type": "code",
   "execution_count": 28,
   "metadata": {},
   "outputs": [
    {
     "name": "stdout",
     "output_type": "stream",
     "text": [
      "               System  Quantity\n",
      "0      Air_Compressor         0\n",
      "1        Bogie_System         3\n",
      "2             Coupler         0\n",
      "3   Current_Collector         9\n",
      "4                 DCU         5\n",
      "5                Door         2\n",
      "6          Driver_Cab         0\n",
      "7                 FAS         0\n",
      "8            HVAC_Cab         0\n",
      "9         HVAC_Saloon         3\n",
      "10           Interior         0\n",
      "11  Internal_Lighting         3\n",
      "12          Lightning         2\n",
      "13       Node_Circuit         0\n",
      "14                PIS        13\n",
      "15   Pneumatic_system         1\n",
      "16                SIV         1\n",
      "17               TCMS         0\n",
      "18        Under_frame        29\n"
     ]
    }
   ],
   "source": [
    "df1 = pd.DataFrame(columns = ['System', 'Quantity'])\n",
    "df2 = pd.DataFrame(columns = ['System'])\n",
    "df2['System'] = feature_monthly_quantity_df['System'].unique()\n",
    "for x in range(max(feature_monthly_quantity_df['SystemEncoded'])):\n",
    "    model.fit(series = train_time_series[x])\n",
    "    pred = model.predict(3, series = train_time_series[x])\n",
    "    quantity = pred.values()[2][0]\n",
    "    quantity = max(round(quantity), 0)\n",
    "    df1.loc[x] = [df2['System'][x], quantity]\n",
    "    \n",
    "    # df1 = df1.append({'System': df2['System'][x], 'Quantity': quantity})\n",
    "print(df1)\n",
    "\n",
    "df1.to_csv('sparePartsPrediction.csv', index=False)"
   ]
  },
  {
   "cell_type": "code",
   "execution_count": 12,
   "metadata": {},
   "outputs": [
    {
     "name": "stdout",
     "output_type": "stream",
     "text": [
      "component   Quantity\n",
      "Date                \n",
      "2023-11-30        29\n"
     ]
    }
   ],
   "source": [
    "# df1 = pred.pd_dataframe()\n",
    "# df1['Quantity'] = df1['Quantity'].apply(lambda x: max(0, round(x))).astype(int).tolist()\n",
    "# print(df1)"
   ]
  }
 ],
 "metadata": {
  "kernelspec": {
   "display_name": ".fypvenv",
   "language": "python",
   "name": "python3"
  },
  "language_info": {
   "codemirror_mode": {
    "name": "ipython",
    "version": 3
   },
   "file_extension": ".py",
   "mimetype": "text/x-python",
   "name": "python",
   "nbconvert_exporter": "python",
   "pygments_lexer": "ipython3",
   "version": "3.12.1"
  }
 },
 "nbformat": 4,
 "nbformat_minor": 2
}
